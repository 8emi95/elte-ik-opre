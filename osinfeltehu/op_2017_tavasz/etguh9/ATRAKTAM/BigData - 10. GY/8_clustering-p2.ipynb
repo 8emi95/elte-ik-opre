{
 "cells": [
  {
   "cell_type": "markdown",
   "metadata": {},
   "source": [
    "# ENSZ adatok klaszterezése\n",
    "\n",
    "\n",
    "## 1. feladat: adatbetöltés\n",
    "\n",
    "Töltsük be a /volumes/data/clustering/UN.csv fájl következő oszlopait:\n",
    "    'country','region','lifeMale', 'lifeFemale', 'infantMortality', 'GDPperCapita'\n",
    "    \n",
    "A feladat során csak ezekkel az oszlopokkal fogunk dolgozni!"
   ]
  },
  {
   "cell_type": "code",
   "execution_count": null,
   "metadata": {
    "collapsed": false
   },
   "outputs": [],
   "source": [
    "import pandas as pd\n",
    "\n",
    "DATA_PATH = '/volumes/data/clustering/'\n",
    "\n",
    "def load_un_data(filename):\n",
    "    pass # TODO!!!!!!!!!!!!!!!!!!!!!!!!!!!!!!!!!!!!!\n",
    "    \n",
    "\n",
    "df = load_un_data(DATA_PATH + 'UN.csv')\n",
    "df.head()"
   ]
  },
  {
   "cell_type": "markdown",
   "metadata": {
    "collapsed": false
   },
   "source": [
    "## 2.feladat: NaN-t tartalmazó cellák és sorok száma\n",
    "\n",
    "Számoljuk meg, hogy összesen hány NaN érték van a táblában, majd azt is adjuk meg, hogy hány sor tartalmaz legalább egy NaN értéket!"
   ]
  },
  {
   "cell_type": "code",
   "execution_count": null,
   "metadata": {
    "collapsed": false
   },
   "outputs": [],
   "source": [
    "print \"Number of cells with NaN: %d\" % 0 # it should be 38 TODO!!!!!!!!!!!!!!!!!!\n",
    "print \"Number of rows with NaN: %d\" % 0 # it should be 19 TODO!!!!!!!!!!!!!!!!!!"
   ]
  },
  {
   "cell_type": "markdown",
   "metadata": {
    "collapsed": false
   },
   "source": [
    "## 3. feladat: Távolítsuk el a NaN-t tartalmazó sorokat"
   ]
  },
  {
   "cell_type": "code",
   "execution_count": null,
   "metadata": {
    "collapsed": false
   },
   "outputs": [],
   "source": [
    "pass # TODO!!!!!!!!!!!!!!!!!!!!!!!!!!!!!!!!!!!!!"
   ]
  },
  {
   "cell_type": "code",
   "execution_count": null,
   "metadata": {
    "collapsed": false
   },
   "outputs": [],
   "source": [
    "df.head()"
   ]
  },
  {
   "cell_type": "markdown",
   "metadata": {},
   "source": [
    "## 4. feladat: Elemezzük a kapott táblázatot scatter plot és hisztogramok segítségével\n",
    "\n",
    "Mit mondhatunk a következőkről?\n",
    "\n",
    "* Élethossz eloszlása a különböző régiókban\n",
    "* Élethossz és a GDP kapcsolata\n",
    "* Gyermekhalálozás (infant mortality) és a GDP kapcsolata régiónként\n",
    "* Nők és férfiak élethossza közötti különbség régiónként? Hogyan korrelál ez a GDP-vel?\n",
    "\n",
    "Melyik kérdést milyen típusú ábrával tudjuk megválaszolni?"
   ]
  },
  {
   "cell_type": "code",
   "execution_count": null,
   "metadata": {
    "collapsed": false
   },
   "outputs": [],
   "source": [
    "import matplotlib.pyplot as plt\n",
    "%matplotlib inline\n",
    "\n",
    "def list_of_regions(df):\n",
    "    pass # TODO!!!!!!!!!!!!!!!!!!!!!!!!!!!!!!!!!!!!!\n",
    "\n",
    "def life_in_region(df, region):\n",
    "    pass # TODO!!!!!!!!!!!!!!!!!!!!!!!!!!!!!!!!!!!!!\n",
    "\n",
    "for region in list_of_regions(df):\n",
    "    plt.figure(figsize=(16,2))\n",
    "    plt.xlim((0,100))\n",
    "    plt.xlabel('Age')\n",
    "    plt.ylabel('P')\n",
    "    life_in_region(df, region).hist(bins=range(0,100,5), label=region, alpha=0.5, normed=True)\n",
    "    plt.legend()\n",
    "    plt.show()\n"
   ]
  },
  {
   "cell_type": "code",
   "execution_count": null,
   "metadata": {
    "collapsed": false
   },
   "outputs": [],
   "source": [
    "def life_vs_gdp(df):\n",
    "    pass # TODO!!!!!!!!!!!!!!!!!!!!!!!!!!!!!!!!!!!!!\n",
    "\n",
    "lvgdp = life_vs_gdp(df)\n",
    "regions = pd.factorize(df['region'].append(df['region']))\n",
    "plt.figure(figsize=(16,16))\n",
    "plt.xlabel('Age')\n",
    "plt.ylabel('GDP')\n",
    "plt.yscale('log')\n",
    "plt.scatter(....) # TODO!!!!!!!!!!!!!!!!!!!!!!!!!!!!!!!!!!!!!\n",
    "plt.show()"
   ]
  },
  {
   "cell_type": "code",
   "execution_count": null,
   "metadata": {
    "collapsed": false,
    "scrolled": true
   },
   "outputs": [],
   "source": [
    "def mortality_vs_GDP(df, region):\n",
    "    pass # TODO!!!!!!!!!!!!!!!!!!!!!!!!!!!!!!!!!!!!!\n",
    "\n",
    "plt.figure(figsize=(18,12))\n",
    "n=1\n",
    "for region in list_of_regions(df):\n",
    "    mvgdp = mortality_vs_GDP(df,region)\n",
    "    plt.subplot(2,3,n)\n",
    "    n+=1\n",
    "    plt.xlim((0,200))\n",
    "    plt.xlabel('infMortality')\n",
    "    plt.ylabel('GDP')\n",
    "    plt.yscale('log')\n",
    "    plt.scatter(x=mvgdp['infantMortality'].values, y=mvgdp['GDPperCapita'].values, s=20, alpha=0.5, label=region)\n",
    "    plt.legend()\n",
    "plt.show()\n"
   ]
  },
  {
   "cell_type": "code",
   "execution_count": null,
   "metadata": {
    "collapsed": false
   },
   "outputs": [],
   "source": [
    "def difference_life(df, region):\n",
    "    pass # TODO!!!!!!!!!!!!!!!!!!!!!!!!!!!!!!!!!!!!!\n",
    "\n",
    "def gdp_region(df, region):\n",
    "    pass # TODO!!!!!!!!!!!!!!!!!!!!!!!!!!!!!!!!!!!!!\n",
    "\n",
    "plt.figure(figsize=(18,6))\n",
    "n=1\n",
    "for region in list_of_regions(df):\n",
    "    plt.subplot(2,3,n)\n",
    "    n+=1\n",
    "    plt.xlabel('Difference')\n",
    "    plt.ylabel('P')\n",
    "    plt.xlim((-10,10))\n",
    "    difference_life(df, region).hist(bins=range(-10,10,1), label=region, normed=True)\n",
    "    plt.legend()\n",
    "plt.show()\n",
    "\n",
    "plt.figure(figsize=(18,12))\n",
    "n=1\n",
    "for region in list_of_regions(df):\n",
    "    plt.subplot(2,3,n)\n",
    "    n+=1\n",
    "    plt.xlabel('Difference')\n",
    "    plt.ylabel('GDP')\n",
    "    plt.xlim((-10,10))\n",
    "    plt.ylim((0,50000))\n",
    "    plt.scatter(x=difference_life(df,region), y=gdp_region(df, region), s=20, alpha=0.5, label=region)\n",
    "    plt.legend()\n",
    "plt.show()\n"
   ]
  },
  {
   "cell_type": "markdown",
   "metadata": {},
   "source": [
    "## 5. feladat: Klaszterezzük K-Means segítségével az adatpontokat\n",
    "\n",
    "Végezzük el az adatok klaszterezését a következő változók figyelembe vételével: \n",
    "\n",
    "* 'lifeMale', 'lifeFemale', 'infantMortality', 'GDPperCapita'\n",
    "        \n",
    "Nem tudjuk, hogy hány klaszterre van szükségünk. Probáljuk ki a K=1,2,3,4,5,6,7,8,9,10 eseteket. Mindegyikre számoljuk ki az Inertia és a Silhouette Score értéket és ábrázoljuk K függvényében egy grafikonon. Melyik K értéket érdemes választani?"
   ]
  },
  {
   "cell_type": "code",
   "execution_count": null,
   "metadata": {
    "collapsed": false
   },
   "outputs": [],
   "source": [
    "from sklearn.cluster import KMeans\n",
    "from sklearn.preprocessing import StandardScaler\n",
    "from sklearn.metrics import silhouette_score\n",
    "\n",
    "def generate_models(K_array, train):\n",
    "    pass # TODO!!!!!!!!!!!!!!!!!!!!!!!!!!!!!!!!!!!!!\n",
    "\n",
    "# NOTE: Use 100 sample points to calculate the silhouette score\n",
    "def get_silhouette_scores(train, model_array):\n",
    "    pass # TODO!!!!!!!!!!!!!!!!!!!!!!!!!!!!!!!!!!!!!\n",
    "\n",
    "K_array = range(1,11,1)\n",
    "scaler = StandardScaler()\n",
    "train = scaler.fit_transform(df[['lifeMale', 'lifeFemale', 'infantMortality', 'GDPperCapita']].values)\n",
    "#train = df[['lifeMale', 'lifeFemale', 'infantMortality', 'GDPperCapita']].values # ALSO TRY THIS WITHOUT SCALER...\n",
    "\n",
    "models = generate_models(K_array, train)\n",
    "\n",
    "plt.figure(figsize=(18,3))\n",
    "plt.plot(K_array, [m.inertia_ for m in models], marker='o', markersize=6, \n",
    "      markeredgewidth=2, markeredgecolor='r', markerfacecolor='None')\n",
    "plt.grid(True)\n",
    "plt.xlabel('Number of clusters')\n",
    "plt.ylabel('Inertia: Average within-cluster sum of squares')\n",
    "plt.show()\n",
    "\n",
    "plt.figure(figsize=(18,3))\n",
    "plt.plot(...) # TODO!!!!!!!!!!!!!!!!!!!!!!!!!!!!!!!!!!!!!\n",
    "plt.grid(True)\n",
    "plt.xlabel('Number of clusters')\n",
    "plt.ylabel('Silhouette score')\n",
    "plt.show()\n",
    "\n"
   ]
  },
  {
   "cell_type": "markdown",
   "metadata": {},
   "source": [
    "## 6.feladat: A klaszterek vizualizációja\n",
    "\n",
    "K=3 még mindkét mértékben jó klaszterezést mutat. Válasszuk ezt! Osztályozzuk a pontokat, majd különböző változó párok mentén ábrázoljuk azokat scatter ploton!"
   ]
  },
  {
   "cell_type": "code",
   "execution_count": null,
   "metadata": {
    "collapsed": false
   },
   "outputs": [],
   "source": [
    "bestmodel = models[2]\n",
    "\n",
    "clusters = bestmodel.predict(train)\n",
    "\n",
    "# Visualize lifeMale/GDP\n",
    "# TODO\n",
    "\n",
    "# Visualize lifeFemale/GDP\n",
    "# TODO\n",
    "\n",
    "# Visualize infantMortality/GDP\n",
    "# TODO\n"
   ]
  },
  {
   "cell_type": "markdown",
   "metadata": {},
   "source": [
    "## 7.feladat: Mit történik, ha nem használunk StandardScaler-t a 'train' mátrix előállításánál\n",
    "\n",
    "A K-Means és a legtöbb klaszterező esetén a távolság fogalmának jelentős szerepe van a pontok csoportosításában. A változók értékei eltérő skálán mozoghatnak, így kiemelten fontos őket összeskálázni a modellezés előtt. Hasonló igaz pl. az SVM osztályozóra is."
   ]
  },
  {
   "cell_type": "markdown",
   "metadata": {},
   "source": [
    "## 8.feladat: Listázzuk ki az egyes klaszterekbe került régiókat és országokat"
   ]
  },
  {
   "cell_type": "code",
   "execution_count": null,
   "metadata": {
    "collapsed": true
   },
   "outputs": [],
   "source": []
  },
  {
   "cell_type": "code",
   "execution_count": null,
   "metadata": {
    "collapsed": false
   },
   "outputs": [],
   "source": []
  },
  {
   "cell_type": "code",
   "execution_count": null,
   "metadata": {
    "collapsed": false
   },
   "outputs": [],
   "source": []
  },
  {
   "cell_type": "code",
   "execution_count": null,
   "metadata": {
    "collapsed": false
   },
   "outputs": [],
   "source": []
  },
  {
   "cell_type": "code",
   "execution_count": null,
   "metadata": {
    "collapsed": true
   },
   "outputs": [],
   "source": []
  }
 ],
 "metadata": {
  "kernelspec": {
   "display_name": "Python 2",
   "language": "python",
   "name": "python2"
  },
  "language_info": {
   "codemirror_mode": {
    "name": "ipython",
    "version": 2
   },
   "file_extension": ".py",
   "mimetype": "text/x-python",
   "name": "python",
   "nbconvert_exporter": "python",
   "pygments_lexer": "ipython2",
   "version": "2.7.6"
  }
 },
 "nbformat": 4,
 "nbformat_minor": 0
}
